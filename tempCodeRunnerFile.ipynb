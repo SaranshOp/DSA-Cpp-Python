{
 "cells": [
  {
   "cell_type": "code",
   "execution_count": 1,
   "metadata": {},
   "outputs": [],
   "source": [
    "def count_substrings_with_vowels_and_k_consonants(word, k):\n",
    "    vowels = set('aeiou')\n",
    "    vowel_count = {v: 0 for v in vowels}\n",
    "    total_vowel_count = 0\n",
    "    consonant_count = 0\n",
    "    result = 0\n",
    "    start = 0\n",
    "\n",
    "    for end in range(len(word)):\n",
    "        # Add the character at the 'end' position to the window\n",
    "        char = word[end]\n",
    "\n",
    "        # If it's a vowel, update the vowel count\n",
    "        if char in vowels:\n",
    "            if vowel_count[char] == 0:\n",
    "                total_vowel_count += 1\n",
    "            vowel_count[char] += 1\n",
    "        # If it's a consonant, increase the consonant count\n",
    "        elif char.isalpha():\n",
    "            consonant_count += 1\n",
    "\n",
    "        # While the number of consonants exceeds k, shrink the window from the left\n",
    "        while consonant_count > k:\n",
    "            char_start = word[start]\n",
    "            if char_start in vowels:\n",
    "                vowel_count[char_start] -= 1\n",
    "                if vowel_count[char_start] == 0:\n",
    "                    total_vowel_count -= 1\n",
    "            elif char_start.isalpha():\n",
    "                consonant_count -= 1\n",
    "            start += 1\n",
    "\n",
    "        # Check if the current window contains all vowels and exactly k consonants\n",
    "        if total_vowel_count == 5 and consonant_count == k:\n",
    "            result += 1\n",
    "\n",
    "    return result\n"
   ]
  },
  {
   "cell_type": "code",
   "execution_count": 4,
   "metadata": {},
   "outputs": [
    {
     "name": "stdout",
     "output_type": "stream",
     "text": [
      "2\n"
     ]
    }
   ],
   "source": [
    "if __name__ == \"__main__\":\n",
    "    word = \"iqeaouqi\"\n",
    "    k = 2\n",
    "    print(count_substrings_with_vowels_and_k_consonants(word, k))  # 3"
   ]
  },
  {
   "cell_type": "code",
   "execution_count": 5,
   "metadata": {},
   "outputs": [
    {
     "name": "stdout",
     "output_type": "stream",
     "text": [
      "3\n"
     ]
    }
   ],
   "source": [
    "if __name__ == \"__main__\":\n",
    "    word = \"ieaouqqieaouqq\"\n",
    "    k = 1\n",
    "    print(count_substrings_with_vowels_and_k_consonants(word, k))  # 3"
   ]
  },
  {
   "cell_type": "code",
   "execution_count": null,
   "metadata": {},
   "outputs": [],
   "source": []
  }
 ],
 "metadata": {
  "kernelspec": {
   "display_name": "base",
   "language": "python",
   "name": "python3"
  },
  "language_info": {
   "codemirror_mode": {
    "name": "ipython",
    "version": 3
   },
   "file_extension": ".py",
   "mimetype": "text/x-python",
   "name": "python",
   "nbconvert_exporter": "python",
   "pygments_lexer": "ipython3",
   "version": "3.11.4"
  }
 },
 "nbformat": 4,
 "nbformat_minor": 2
}
